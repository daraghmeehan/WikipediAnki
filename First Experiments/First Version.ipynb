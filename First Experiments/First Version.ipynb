{
 "cells": [
  {
   "cell_type": "code",
   "execution_count": 2,
   "id": "ad7d5e8e",
   "metadata": {},
   "outputs": [],
   "source": [
    "import requests, wikipedia, spacy\n",
    "from bs4 import BeautifulSoup\n",
    "\n",
    "import ast # for converting string representation of list to a list"
   ]
  },
  {
   "cell_type": "code",
   "execution_count": 3,
   "id": "2498c6f9",
   "metadata": {},
   "outputs": [
    {
     "name": "stdout",
     "output_type": "stream",
     "text": [
      "Earth\n"
     ]
    }
   ],
   "source": [
    "URL = \"https://en.wikipedia.org/wiki/Earth\"\n",
    "page = requests.get(URL)\n",
    "soup = BeautifulSoup(page.content, \"html.parser\")\n",
    "title = soup.find(id=\"firstHeading\").text\n",
    "print(title)\n",
    "\n",
    "nlp = spacy.load(\"en_core_web_sm\")"
   ]
  },
  {
   "cell_type": "markdown",
   "id": "7bf46f3e",
   "metadata": {},
   "source": [
    "# First Version\n",
    "\n",
    "Take first paragraph (of Wikipedia's \"Earth\" page), choose which sentence you would like to make a flashcard for, and finally choose which parts of the sentence you would like to hide (which become the answer)."
   ]
  },
  {
   "cell_type": "code",
   "execution_count": 4,
   "id": "e2ea4695",
   "metadata": {},
   "outputs": [],
   "source": [
    "all_paragraphs = soup.find_all(\"p\")"
   ]
  },
  {
   "cell_type": "code",
   "execution_count": 5,
   "id": "c382a092",
   "metadata": {},
   "outputs": [],
   "source": [
    "# getting first paragraph\n",
    "for i in range(len(all_paragraphs)):\n",
    "    p = all_paragraphs[i]\n",
    "    if p.text == \"\\n\": # avoids \\n paragraph which comes first\n",
    "        continue\n",
    "    else:\n",
    "        break # only one for now"
   ]
  },
  {
   "cell_type": "markdown",
   "id": "7a90b518",
   "metadata": {},
   "source": [
    "### Using spacy to tokenise and sentence split our paragraph"
   ]
  },
  {
   "cell_type": "code",
   "execution_count": 6,
   "id": "13992766",
   "metadata": {},
   "outputs": [],
   "source": [
    "p_text = p.text.strip()\n",
    "doc = nlp(p_text)\n",
    "\n",
    "sents = list(doc.sents) # all sentences are type spacy.tokens.span.Span\n",
    "number_of_sents = len(list(doc.sents))"
   ]
  },
  {
   "cell_type": "markdown",
   "id": "c18800ac",
   "metadata": {},
   "source": [
    "### We begin the interaction with the user by asking which line they want to make a flashcard for\n",
    "\n",
    "The user is presented with the lines of the paragraph they have chosen (version one only includes the first paragraph). Line 6 seems to be the most interesting, try that :)\n",
    "\n",
    "### Then we ask what span(s) of the sentence the user wishes to learn\n",
    "\n",
    "E.g. Choose sentence 6 and choose to learn \"magnetosphere\" and \"solar winds\" (spans: [[14], [18,19]])\n",
    "\n",
    "### Finally we present the user with the question that will be the front of the flashcard (the original sentence but with words deleted), and the answers (the missing words)."
   ]
  },
  {
   "cell_type": "code",
   "execution_count": 10,
   "id": "931f0fba",
   "metadata": {},
   "outputs": [
    {
     "name": "stdout",
     "output_type": "stream",
     "text": [
      "Choose which line to learn from, or go back with \"b\".\n",
      "1) Earth is the third planet from the Sun and the only astronomical object known to harbor life.\n",
      "2) While large volumes of water can be found throughout the Solar System, only Earth sustains liquid surface water.\n",
      "3) About 71% of Earth's surface is made up of the ocean, dwarfing Earth's polar ice, lakes, and rivers.\n",
      "4) The remaining 29% of Earth's surface is land, consisting of continents and islands.\n",
      "5) Earth's surface layer is formed of several slowly moving tectonic plates, interacting to produce mountain ranges, volcanoes, and earthquakes.\n",
      "6) Earth's liquid outer core generates the magnetic field that shapes Earth's magnetosphere, deflecting destructive solar winds.\n",
      "What line do you want to learn? 6\n",
      "\n",
      "Which words would you like to hide?\n",
      "1 Earth\n",
      "2 's\n",
      "3 liquid\n",
      "4 outer\n",
      "5 core\n",
      "6 generates\n",
      "7 the\n",
      "8 magnetic\n",
      "9 field\n",
      "10 that\n",
      "11 shapes\n",
      "12 Earth\n",
      "13 's\n",
      "14 magnetosphere\n",
      "15 ,\n",
      "16 deflecting\n",
      "17 destructive\n",
      "18 solar\n",
      "19 winds\n",
      "20 .\n",
      "\n",
      "Select a span (e.g. \"[1,2,3]\"), a single word (e.g. \"[5]\"), or even a multiple spans (e.g. \"[[1,2], [5,6]]\"\n",
      "[[14], [18,19]]\n",
      "\n",
      "Your new flashcard will look like this:\n",
      "Earth's liquid outer core generates the magnetic field that shapes Earth's [1], deflecting destructive [2] [2].\n",
      "\n",
      "And the answers are:\n",
      "1 magnetosphere\n",
      "2 solar winds\n"
     ]
    }
   ],
   "source": [
    "print(\"Choose which line to learn from, or go back with \\\"b\\\".\")\n",
    "\n",
    "for i in range(1, len(sents) + 1):\n",
    "    print(f\"{i}) {sents[i - 1]}\")\n",
    "\n",
    "# ask user, line 6 is interesting enough to create a flashcard for\n",
    "line_number_to_learn = input(\"What line do you want to learn? \")\n",
    "\n",
    "if line_number_to_learn == \"b\":\n",
    "    raise # going back here to choose another paragraph/line will be part of version two\n",
    "else:\n",
    "    line_number_to_learn = int(line_number_to_learn)\n",
    "    \n",
    "if line_number_to_learn not in list(range(1, number_of_sents + 1)):\n",
    "    print(\"Please try again and choose a valid line, or go back with b.\")\n",
    "    raise # raising instead of exit as it kills kernel, really we want to ask for a line number again\n",
    "\n",
    "print(\"\\nWhich words would you like to hide?\")\n",
    "\n",
    "line_to_learn = sents[line_number_to_learn - 1]\n",
    "for i in range(1, len(line_to_learn) + 1):\n",
    "    print(f\"{i} {line_to_learn[i - 1]}\")\n",
    "\n",
    "# [[14], [18,19]] for line 6 generates two interesting answers\n",
    "selected_spans_str = input(f\"\\nSelect a span (e.g. \\\"[1,2,3]\\\"), a single word (e.g. \\\"[5]\\\"), or even a multiple spans (e.g. \\\"[[1,2], [5,6]]\\\"\\n\")\n",
    "\n",
    "all_spans = [] # to track all the spans mentioned\n",
    "span_numbers = {} # to track, for a given index, which span group (i.e. the answer) it corresponds to\n",
    "answers = [] # to collect the answers for the given sub_spans\n",
    "\n",
    "try:\n",
    "    selected_spans = ast.literal_eval(selected_spans_str)\n",
    "    assert isinstance(selected_spans, list)\n",
    "    \n",
    "    if isinstance(selected_spans[0], int):\n",
    "        # if only have one span, e.g. \"[1,2,3]\" or \"[5]\"\n",
    "        selected_spans = [selected_spans] # can trivially treat as a nested span\n",
    "        \n",
    "    elif not isinstance(selected_spans[0], list):\n",
    "        raise\n",
    "    \n",
    "    # now have a list of spans \"[[1,2], [5,6]]\", or simply \"[[1,2,3]]\"\n",
    "    all_spans = [idx for sub_span in selected_spans for idx in sub_span] # simply extracting every word index from our list of lists\n",
    "    for i, sub_span in enumerate(selected_spans, start = 1):\n",
    "        # now building answer for given sub_span, and assigning span numbers (corresponding answer) for each index of the sub-span\n",
    "        answer = \"\"\n",
    "\n",
    "        for j, idx in enumerate(sub_span, start=1):\n",
    "            span_numbers[idx] = i # assigns indiviual index to a specific span (answer), to use when creating the flashcard\n",
    "            \n",
    "            if j != len(sub_span):\n",
    "                answer += line_to_learn[idx - 1].text_with_ws\n",
    "            else:\n",
    "                # don't add whitespace if at the last sub_span index (don't want an answer with a space at the end)\n",
    "                answer += line_to_learn[idx - 1].text\n",
    "        \n",
    "        answers.append(answer)\n",
    "\n",
    "except:\n",
    "    print(\"Please try again with a valid span.\")\n",
    "\n",
    "\n",
    "print(\"\\nYour new flashcard will look like this:\")\n",
    "\n",
    "question = \"\"\n",
    "for i in range(1, len(line_to_learn) + 1):\n",
    "    token = line_to_learn[i - 1]\n",
    "    if i in all_spans:\n",
    "        span_number = span_numbers[i] # like a reverse dict search\n",
    "        question += f\"[{span_number}]\"\n",
    "        question += token.whitespace_\n",
    "    else:\n",
    "        question += token.text_with_ws\n",
    "print(question)\n",
    "\n",
    "print(\"\\nAnd the answers are:\")\n",
    "for i, answer in enumerate(answers, start = 1):\n",
    "    print(f\"{i} {answer}\")"
   ]
  }
 ],
 "metadata": {
  "kernelspec": {
   "display_name": "Python 3 (ipykernel)",
   "language": "python",
   "name": "python3"
  },
  "language_info": {
   "codemirror_mode": {
    "name": "ipython",
    "version": 3
   },
   "file_extension": ".py",
   "mimetype": "text/x-python",
   "name": "python",
   "nbconvert_exporter": "python",
   "pygments_lexer": "ipython3",
   "version": "3.10.4"
  }
 },
 "nbformat": 4,
 "nbformat_minor": 5
}
